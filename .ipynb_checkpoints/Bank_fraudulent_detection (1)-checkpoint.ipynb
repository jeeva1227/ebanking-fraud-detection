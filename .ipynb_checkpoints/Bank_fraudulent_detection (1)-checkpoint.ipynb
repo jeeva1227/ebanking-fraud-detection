{
 "cells": [
  {
   "cell_type": "code",
   "execution_count": 1,
   "id": "d7906c38",
   "metadata": {},
   "outputs": [],
   "source": [
    "import numpy as np\n",
    "import matplotlib.pyplot as plt\n",
    "import pandas as pd\n",
    "from sklearn.svm import SVC\n",
    "from sklearn.metrics import accuracy_score\n",
    "from sklearn.neighbors import KNeighborsClassifier\n",
    "from sklearn.naive_bayes import GaussianNB\n",
    "from sklearn.ensemble import BaggingClassifier,RandomForestClassifier\n",
    "import seaborn as sns\n",
    "import random\n",
    "from sklearn.preprocessing import LabelEncoder\n",
    "from sklearn.utils import shuffle\n",
    "from sklearn.model_selection import train_test_split,StratifiedKFold"
   ]
  },
  {
   "cell_type": "code",
   "execution_count": null,
   "id": "7d45b3e3",
   "metadata": {},
   "outputs": [],
   "source": [
    "data=pd.read_csv('bank_fraudulant.csv')"
   ]
  },
  {
   "cell_type": "code",
   "execution_count": null,
   "id": "eafc8ffa",
   "metadata": {},
   "outputs": [],
   "source": [
    "data.head()"
   ]
  },
  {
   "cell_type": "code",
   "execution_count": null,
   "id": "f64b0b79",
   "metadata": {},
   "outputs": [],
   "source": [
    "data.shape"
   ]
  },
  {
   "cell_type": "code",
   "execution_count": null,
   "id": "c94c989b",
   "metadata": {},
   "outputs": [],
   "source": [
    "data.isnull().sum()"
   ]
  },
  {
   "cell_type": "code",
   "execution_count": null,
   "id": "c8a50aac",
   "metadata": {},
   "outputs": [],
   "source": [
    "data.corr()"
   ]
  },
  {
   "cell_type": "code",
   "execution_count": null,
   "id": "69d1e48b",
   "metadata": {},
   "outputs": [],
   "source": [
    "data.hist(figsize=(20,10))"
   ]
  },
  {
   "cell_type": "code",
   "execution_count": null,
   "id": "2a69f781",
   "metadata": {},
   "outputs": [],
   "source": [
    "sns.countplot(data['isFraud'])"
   ]
  },
  {
   "cell_type": "code",
   "execution_count": null,
   "id": "5c8d057d",
   "metadata": {},
   "outputs": [],
   "source": [
    "data['isFraud'].values.tolist().count(1)"
   ]
  },
  {
   "cell_type": "code",
   "execution_count": null,
   "id": "fcc7ee10",
   "metadata": {},
   "outputs": [],
   "source": [
    "data['isFraud'].values.tolist().count(0)"
   ]
  },
  {
   "cell_type": "code",
   "execution_count": null,
   "id": "dfeced5c",
   "metadata": {},
   "outputs": [],
   "source": [
    "Total_sample=5000\n",
    "percent_0=60\n",
    "percent_1=40\n",
    "data0=data[data['isFraud']==0].sample(n=int((percent_0*Total_sample/100)))\n",
    "data1=data[data['isFraud']==1].sample(n=int((percent_1*Total_sample/100)))"
   ]
  },
  {
   "cell_type": "code",
   "execution_count": null,
   "id": "84366a8e",
   "metadata": {},
   "outputs": [],
   "source": [
    "print(data0.shape)\n",
    "data0.head()"
   ]
  },
  {
   "cell_type": "code",
   "execution_count": null,
   "id": "c5c66d9f",
   "metadata": {},
   "outputs": [],
   "source": [
    "print(data1.shape)\n",
    "data1.head()"
   ]
  },
  {
   "cell_type": "code",
   "execution_count": null,
   "id": "0d32a0b5",
   "metadata": {},
   "outputs": [],
   "source": [
    "sampled_data=pd.concat([data0,data1],axis=0)\n",
    "sampled_data.shape"
   ]
  },
  {
   "cell_type": "code",
   "execution_count": null,
   "id": "e473e727",
   "metadata": {},
   "outputs": [],
   "source": [
    "shuffle_data=shuffle(sampled_data)\n",
    "shuffle_data.head(100)"
   ]
  },
  {
   "cell_type": "code",
   "execution_count": null,
   "id": "5cea8821",
   "metadata": {},
   "outputs": [],
   "source": [
    "#RANDOM UNDER SAMPLING\n",
    "sns.countplot(shuffle_data['isFraud'])"
   ]
  },
  {
   "cell_type": "code",
   "execution_count": null,
   "id": "427f4605",
   "metadata": {},
   "outputs": [],
   "source": [
    "label_encoder=LabelEncoder()\n",
    "columns=shuffle_data.columns\n",
    "for cols in columns:\n",
    "   # print(cols)\n",
    "    if(isinstance(shuffle_data[cols].values[0],str)):\n",
    "        shuffle_data[cols]=label_encoder.fit_transform(shuffle_data[cols].values)"
   ]
  },
  {
   "cell_type": "code",
   "execution_count": null,
   "id": "c7ca8507",
   "metadata": {},
   "outputs": [],
   "source": [
    "x=shuffle_data.drop(['isFraud'],axis=1)\n",
    "y=shuffle_data['isFraud']"
   ]
  },
  {
   "cell_type": "code",
   "execution_count": null,
   "id": "3d241df6",
   "metadata": {},
   "outputs": [],
   "source": [
    "x_train,x_test,y_train,y_test=train_test_split(x,y,stratify=y,test_size=0.3,random_state=42)"
   ]
  },
  {
   "cell_type": "code",
   "execution_count": null,
   "id": "0b86b2d7",
   "metadata": {},
   "outputs": [],
   "source": [
    "x_train.shape"
   ]
  },
  {
   "cell_type": "code",
   "execution_count": null,
   "id": "dfcfbb8c",
   "metadata": {},
   "outputs": [],
   "source": [
    "y_train.shape"
   ]
  },
  {
   "cell_type": "code",
   "execution_count": null,
   "id": "c033a7bf",
   "metadata": {},
   "outputs": [],
   "source": [
    "y_test.shape"
   ]
  },
  {
   "cell_type": "code",
   "execution_count": null,
   "id": "6bf762d1",
   "metadata": {},
   "outputs": [],
   "source": [
    "x_train.iloc[0,:]"
   ]
  },
  {
   "cell_type": "code",
   "execution_count": null,
   "id": "a00b830c",
   "metadata": {},
   "outputs": [],
   "source": [
    "Nb=GaussianNB()\n",
    "Nb.fit(x_train, y_train)\n",
    "Nb.score(x_test,y_test)"
   ]
  },
  {
   "cell_type": "code",
   "execution_count": null,
   "id": "3f45e283",
   "metadata": {},
   "outputs": [],
   "source": [
    "rf=RandomForestClassifier(n_estimators=200)\n",
    "rf.fit(x_train, y_train)\n",
    "rf.score(x_test,y_test)"
   ]
  },
  {
   "cell_type": "code",
   "execution_count": null,
   "id": "aa757068",
   "metadata": {},
   "outputs": [],
   "source": [
    "from sklearn import tree\n",
    "model = BaggingClassifier(tree.DecisionTreeClassifier(random_state=False))\n",
    "model.fit(x_train, y_train)\n",
    "model.score(x_test,y_test) "
   ]
  },
  {
   "cell_type": "code",
   "execution_count": null,
   "id": "baff6159",
   "metadata": {},
   "outputs": [],
   "source": []
  }
 ],
 "metadata": {
  "kernelspec": {
   "display_name": "Python 3 (ipykernel)",
   "language": "python",
   "name": "python3"
  },
  "language_info": {
   "codemirror_mode": {
    "name": "ipython",
    "version": 3
   },
   "file_extension": ".py",
   "mimetype": "text/x-python",
   "name": "python",
   "nbconvert_exporter": "python",
   "pygments_lexer": "ipython3",
   "version": "3.9.12"
  }
 },
 "nbformat": 4,
 "nbformat_minor": 5
}
